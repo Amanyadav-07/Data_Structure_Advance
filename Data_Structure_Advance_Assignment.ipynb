{
  "nbformat": 4,
  "nbformat_minor": 0,
  "metadata": {
    "colab": {
      "provenance": []
    },
    "kernelspec": {
      "name": "python3",
      "display_name": "Python 3"
    },
    "language_info": {
      "name": "python"
    }
  },
  "cells": [
    {
      "cell_type": "markdown",
      "source": [
        "##1. Write a code to reverse a string\n",
        "\n",
        "\n"
      ],
      "metadata": {
        "id": "rMu-U7x8T9Df"
      }
    },
    {
      "cell_type": "code",
      "source": [
        "# Reversing a string\n",
        "def reverse_string(s):\n",
        "    reversed_s = \"\"\n",
        "    for i in range(len(s) - 1, -1, -1):\n",
        "        reversed_s += s[i]\n",
        "    return reversed_s\n",
        "\n",
        "reverse_string(\"Hello\")"
      ],
      "metadata": {
        "colab": {
          "base_uri": "https://localhost:8080/",
          "height": 36
        },
        "id": "wwzHlUYKUMlc",
        "outputId": "a6bcda5b-903f-41e2-943d-c46d52291a36"
      },
      "execution_count": 2,
      "outputs": [
        {
          "output_type": "execute_result",
          "data": {
            "text/plain": [
              "'olleH'"
            ],
            "application/vnd.google.colaboratory.intrinsic+json": {
              "type": "string"
            }
          },
          "metadata": {},
          "execution_count": 2
        }
      ]
    },
    {
      "cell_type": "markdown",
      "source": [
        "##2. Write a code to count the number of vewels in a string."
      ],
      "metadata": {
        "id": "KxUljieyT8__"
      }
    },
    {
      "cell_type": "code",
      "execution_count": 4,
      "metadata": {
        "colab": {
          "base_uri": "https://localhost:8080/"
        },
        "id": "bpKPL-49T18E",
        "outputId": "6b7a5213-adee-4e26-d969-cd1015ca8cc8"
      },
      "outputs": [
        {
          "output_type": "stream",
          "name": "stdout",
          "text": [
            "Enter a string: Hello, Aman here\n",
            "Number of vowels: 6\n"
          ]
        }
      ],
      "source": [
        "def count_vowels(input_string):\n",
        "    vowels = \"aeiouAEIOU\"\n",
        "    vowel_count = 0\n",
        "\n",
        "    for char in input_string:\n",
        "        if char in vowels:\n",
        "            vowel_count += 1\n",
        "\n",
        "    return vowel_count\n",
        "\n",
        "input_str = input(\"Enter a string: \")\n",
        "print(\"Number of vowels:\", count_vowels(input_str))"
      ]
    },
    {
      "cell_type": "markdown",
      "source": [
        "##3. Write a code to check if a given string is a palindrome or not."
      ],
      "metadata": {
        "id": "9hstwRGVU_d5"
      }
    },
    {
      "cell_type": "code",
      "source": [
        "def is_palindrome(input_string):\n",
        "    # Remove spaces and convert to lowercase\n",
        "    processed_string = input_string.replace(\" \", \"\").lower()\n",
        "\n",
        "    # Check if the string is equal to its reverse\n",
        "    return processed_string == processed_string[::-1]\n",
        "\n",
        "input_str = \"Naman\"\n",
        "print(f\"Is '{input_str}' a palindrome? {is_palindrome(input_str)}\")\n",
        "\n",
        "input_str = \"Hello!\"\n",
        "print(f\"Is '{input_str}' a palindrome? {is_palindrome(input_str)}\")"
      ],
      "metadata": {
        "colab": {
          "base_uri": "https://localhost:8080/"
        },
        "id": "xjNT-serU-DF",
        "outputId": "b46fa06a-3a1a-4c7b-c15b-1ef8dbbc030b"
      },
      "execution_count": 6,
      "outputs": [
        {
          "output_type": "stream",
          "name": "stdout",
          "text": [
            "Is 'Naman' a palindrome? True\n",
            "Is 'Hello, World!' a palindrome? False\n"
          ]
        }
      ]
    },
    {
      "cell_type": "markdown",
      "source": [
        "##4. Write a code to check if two given strings are anagrams of each other."
      ],
      "metadata": {
        "id": "ghp4oeGhVuQa"
      }
    },
    {
      "cell_type": "code",
      "source": [
        "def are_anagrams(str1, str2):\n",
        "    # Remove spaces and convert to lowercase\n",
        "    str1 = str1.replace(\" \", \"\").lower()\n",
        "    str2 = str2.replace(\" \", \"\").lower()\n",
        "\n",
        "    # Check if the lengths are different\n",
        "    if len(str1) != len(str2):\n",
        "        return False\n",
        "\n",
        "    # Count frequency of each character in both strings\n",
        "    char_count = {}\n",
        "    for char in str1:\n",
        "        if char in char_count:\n",
        "            char_count[char] += 1\n",
        "        else:\n",
        "            char_count[char] = 1\n",
        "\n",
        "\n",
        "    return True\n",
        "\n",
        "str1 = \"Listen\"\n",
        "str2 = \"Silent\"\n",
        "print(f\"Are '{str1}' and '{str2}' anagrams?\\t {are_anagrams(str1, str2)}\")\n",
        "\n",
        "\n"
      ],
      "metadata": {
        "colab": {
          "base_uri": "https://localhost:8080/"
        },
        "id": "8W2eVFWeWJcq",
        "outputId": "ec0799e4-21f4-438d-9858-a579a3e35255"
      },
      "execution_count": 9,
      "outputs": [
        {
          "output_type": "stream",
          "name": "stdout",
          "text": [
            "Are 'Listen' and 'Silent' anagrams?\t True\n"
          ]
        }
      ]
    },
    {
      "cell_type": "markdown",
      "source": [
        "##3. Write a code to find all occurrances of a given substring within another string."
      ],
      "metadata": {
        "id": "MzjIj_P8WZHw"
      }
    },
    {
      "cell_type": "code",
      "source": [
        "def find_occurrences(main_string, substring):\n",
        "    occurrences = []\n",
        "    length = len(substring)\n",
        "    index = main_string.find(substring)\n",
        "\n",
        "    while index != -1:\n",
        "        occurrences.append(index)\n",
        "        index = main_string.find(substring, index + length)\n",
        "\n",
        "    return occurrences\n",
        "\n",
        "main_str = \"abracadabra\"\n",
        "sub_str = \"abra\"\n",
        "print(f\"Occurrences of '{sub_str}' in '{main_str}': {find_occurrences(main_str, sub_str)}\")  # Output: [0, 5]\n",
        "\n",
        "\n",
        "\n",
        "main_str = \"hello\"\n",
        "sub_str = \"world\"\n",
        "print(f\"Occurrences of '{sub_str}' in '{main_str}': {find_occurrences(main_str, sub_str)}\")  # Output: []\n",
        "\n"
      ],
      "metadata": {
        "colab": {
          "base_uri": "https://localhost:8080/"
        },
        "id": "9ugPmJ9bWqdA",
        "outputId": "a6a79371-4e0f-4300-da9b-b91fe2b62bf0"
      },
      "execution_count": 10,
      "outputs": [
        {
          "output_type": "stream",
          "name": "stdout",
          "text": [
            "Occurrences of 'abra' in 'abracadabra': [0, 7]\n",
            "Occurrences of 'world' in 'hello': []\n"
          ]
        }
      ]
    },
    {
      "cell_type": "markdown",
      "source": [
        "##6. Write a code to perform basic string has all unique characters.\n"
      ],
      "metadata": {
        "id": "i3Fz7zQuXeu_"
      }
    },
    {
      "cell_type": "code",
      "source": [
        "def has_unique_characters(input_string):\n",
        "    seen = set()\n",
        "    for char in input_string:\n",
        "        if char in seen:\n",
        "            return False\n",
        "        seen.add(char)\n",
        "    return True\n",
        "\n",
        "input_str1 = \"abcdefg\"\n",
        "input_str2 = \"hello\"\n",
        "input_str3 = \"apple\"\n",
        "\n",
        "print(f\"Does '{input_str1}' have all unique characters? {has_unique_characters(input_str1)}\")\n",
        "print(f\"Does '{input_str2}' have all unique characters? {has_unique_characters(input_str2)}\")\n",
        "print(f\"Does '{input_str3}' have all unique characters? {has_unique_characters(input_str3)}\")\n"
      ],
      "metadata": {
        "colab": {
          "base_uri": "https://localhost:8080/"
        },
        "id": "exN--WTMXZAt",
        "outputId": "ec6a6163-16a0-461b-ae90-ffc3607c20ce"
      },
      "execution_count": 11,
      "outputs": [
        {
          "output_type": "stream",
          "name": "stdout",
          "text": [
            "Does 'abcdefg' have all unique characters? True\n",
            "Does 'hello' have all unique characters? False\n",
            "Does 'apple' have all unique characters? False\n"
          ]
        }
      ]
    },
    {
      "cell_type": "markdown",
      "source": [
        "##7. Write a code to determine if a string compression using the counts of repeated characters."
      ],
      "metadata": {
        "id": "iYar0FPBX70-"
      }
    },
    {
      "cell_type": "code",
      "source": [
        "def compress_string(input_string):\n",
        "    compressed_string = []\n",
        "    count = 0\n",
        "\n",
        "    for i in range(len(input_string)):\n",
        "        count += 1\n",
        "\n",
        "        # If next character is different or end of string is reached\n",
        "        if (i + 1 >= len(input_string)) or (input_string[i] != input_string[i + 1]):\n",
        "            compressed_string.append(input_string[i] + str(count))\n",
        "            count = 0\n",
        "\n",
        "    compressed_string = ''.join(compressed_string)\n",
        "\n",
        "    # Return compressed string only if it is shorter than the original\n",
        "    return compressed_string if len(compressed_string) < len(input_string) else input_string\n",
        "\n",
        "input_str1 = \"aabcccccaaa\"\n",
        "input_str2 = \"abcdef\"\n",
        "input_str3 = \"aabbccdd\"\n",
        "\n",
        "print(f\"Compressed string of '{input_str1}': {compress_string(input_str1)}\")\n",
        "print(f\"Compressed string of '{input_str2}': {compress_string(input_str2)}\")\n",
        "print(f\"Compressed string of '{input_str3}': {compress_string(input_str3)}\")\n"
      ],
      "metadata": {
        "colab": {
          "base_uri": "https://localhost:8080/"
        },
        "id": "Tgk91GOMYlDN",
        "outputId": "efe8cdeb-29db-43f0-d749-204e3c6b1c91"
      },
      "execution_count": 12,
      "outputs": [
        {
          "output_type": "stream",
          "name": "stdout",
          "text": [
            "Compressed string of 'aabcccccaaa': a2b1c5a3\n",
            "Compressed string of 'abcdef': abcdef\n",
            "Compressed string of 'aabbccdd': aabbccdd\n"
          ]
        }
      ]
    },
    {
      "cell_type": "markdown",
      "source": [
        "##8. Write a code to convert a given string to uppercase or lowercase.\n"
      ],
      "metadata": {
        "id": "Y75dvJtwY5FR"
      }
    },
    {
      "cell_type": "code",
      "source": [
        "def to_uppercase(input_string):\n",
        "    return input_string.upper()\n",
        "def to_lowercase(input_string):\n",
        "    return input_string.lower()\n",
        "\n",
        "\n",
        "input_str = \"Hello, World!\"\n",
        "print(f\"Lowercase version: {to_lowercase(input_str)}\")\n",
        "\n",
        "\n",
        "input_str = \"Hello, World!\"\n",
        "print(f\"Uppercase version: {to_uppercase(input_str)}\")\n"
      ],
      "metadata": {
        "colab": {
          "base_uri": "https://localhost:8080/"
        },
        "id": "DDjiK1wgY33B",
        "outputId": "53a8a0b5-196e-4f5f-8e74-44fb921e66b6"
      },
      "execution_count": 13,
      "outputs": [
        {
          "output_type": "stream",
          "name": "stdout",
          "text": [
            "Lowercase version: hello, world!\n",
            "Uppercase version: HELLO, WORLD!\n"
          ]
        }
      ]
    },
    {
      "cell_type": "markdown",
      "source": [
        "##9. Write a code to count the number of words in a string."
      ],
      "metadata": {
        "id": "YSzuSYUrZ7Z0"
      }
    },
    {
      "cell_type": "code",
      "source": [
        "def count_words(input_string):\n",
        "    # Remove leading and trailing whitespace\n",
        "    input_string = input_string.strip()\n",
        "\n",
        "    # Split the string by whitespace\n",
        "    words = input_string.split()\n",
        "\n",
        "    # Return the number of words\n",
        "    return len(words)\n",
        "\n",
        "input_str = \"Hello,   World!   \"\n",
        "print(\"Number of words:\", count_words(input_str))\n",
        "\n",
        "input_str = \"This is a sentence with several words.\"\n",
        "print(\"Number of words:\", count_words(input_str))\n",
        "\n",
        "input_str = \"   Leading and trailing whitespace should be handled correctly.   \"\n",
        "print(\"Number of words:\", count_words(input_str))\n"
      ],
      "metadata": {
        "colab": {
          "base_uri": "https://localhost:8080/"
        },
        "id": "78w03VK9aJ3p",
        "outputId": "e9162f04-1d11-48de-a885-20edb44c5ce0"
      },
      "execution_count": 15,
      "outputs": [
        {
          "output_type": "stream",
          "name": "stdout",
          "text": [
            "Number of words: 2\n",
            "Number of words: 7\n",
            "Number of words: 8\n"
          ]
        }
      ]
    },
    {
      "cell_type": "markdown",
      "source": [
        "##10. Write a code to concatenate two strings without using the + operator."
      ],
      "metadata": {
        "id": "ZgyicGSxZX0V"
      }
    },
    {
      "cell_type": "code",
      "source": [
        "def concatenate_strings(str1, str2):\n",
        "    return \"\".join([str1, str2])\n",
        "\n",
        "str1 = \"Hello, \"\n",
        "str2 = \"World!\"\n",
        "print(\"Concatenated string:\", concatenate_strings(str1, str2))\n"
      ],
      "metadata": {
        "colab": {
          "base_uri": "https://localhost:8080/"
        },
        "id": "gdgsWYrkZXiE",
        "outputId": "674b02d7-496b-45dd-c29c-6e97be9d582f"
      },
      "execution_count": 14,
      "outputs": [
        {
          "output_type": "stream",
          "name": "stdout",
          "text": [
            "Concatenated string: Hello, World!\n"
          ]
        }
      ]
    },
    {
      "cell_type": "markdown",
      "source": [
        "##11. Write a code to remove all occurrences of a specific element from a list.\n"
      ],
      "metadata": {
        "id": "LUE7AuMTZwrl"
      }
    },
    {
      "cell_type": "code",
      "source": [
        "def remove_element_from_list(lst, element):\n",
        "    return list(filter(lambda x: x != element, lst))\n",
        "\n",
        "\n",
        "original_list = [1, 2, 3, 2, 4, 2, 5]\n",
        "element_to_remove = 2\n",
        "modified_list = remove_element_from_list(original_list, element_to_remove)\n",
        "print(\"Modified list:\", modified_list)\n"
      ],
      "metadata": {
        "colab": {
          "base_uri": "https://localhost:8080/"
        },
        "id": "GxNqRHLuagBm",
        "outputId": "648c3949-baa2-42d2-f2e3-af9f61a61234"
      },
      "execution_count": 16,
      "outputs": [
        {
          "output_type": "stream",
          "name": "stdout",
          "text": [
            "Modified list: [1, 3, 4, 5]\n"
          ]
        }
      ]
    },
    {
      "cell_type": "markdown",
      "source": [
        "##12. Implement a code to find the second largest number in a given list of integers."
      ],
      "metadata": {
        "id": "DRRo5_1nbGr_"
      }
    },
    {
      "cell_type": "code",
      "source": [
        "def find_second_largest(nums):\n",
        "    # Initialize two variables to store the largest and second largest numbers\n",
        "    largest = float('-inf')\n",
        "    second_largest = float('-inf')\n",
        "\n",
        "    # Iterate through the list\n",
        "    for num in nums:\n",
        "        if num > largest:\n",
        "            second_largest = largest\n",
        "            largest = num\n",
        "        elif num > second_largest and num != largest:\n",
        "            second_largest = num\n",
        "\n",
        "    # Return the second largest number\n",
        "    return second_largest\n",
        "\n",
        "nums = [5, 10, 8, 20, 2, 15]\n",
        "print(\"Second largest number:\", find_second_largest(nums))\n",
        "\n",
        "nums = [3, 1, 4, 4, 5, 5, 2]\n",
        "print(\"Second largest number:\", find_second_largest(nums))\n"
      ],
      "metadata": {
        "colab": {
          "base_uri": "https://localhost:8080/"
        },
        "id": "RvTpft4VbS9J",
        "outputId": "0345a36e-9369-4358-a11d-089bc39c7b2c"
      },
      "execution_count": 17,
      "outputs": [
        {
          "output_type": "stream",
          "name": "stdout",
          "text": [
            "Second largest number: 15\n",
            "Second largest number: 4\n"
          ]
        }
      ]
    },
    {
      "cell_type": "markdown",
      "source": [
        "##13. Create a code to count the occurrences of each element in a list and return a dictionary with elements as keys and their counts as values."
      ],
      "metadata": {
        "id": "lfHVj5YNbif_"
      }
    },
    {
      "cell_type": "code",
      "source": [
        "def CountFrequency(my_list):\n",
        "\n",
        "    # Creating an empty dictionary\n",
        "    freq = {}\n",
        "    for item in my_list:\n",
        "        if (item in freq):\n",
        "            freq[item] += 1\n",
        "        else:\n",
        "            freq[item] = 1\n",
        "\n",
        "    for key, value in freq.items():\n",
        "        print(\"% d : % d\" % (key, value))\n",
        "\n",
        "\n",
        "# Driver function\n",
        "if __name__ == \"__main__\":\n",
        "    my_list = [1, 1, 1, 5, 5, 3, 1, 3, 3, 1, 4, 4, 4, 2, 2, 2, 2]\n",
        "\n",
        "    CountFrequency(my_list)"
      ],
      "metadata": {
        "colab": {
          "base_uri": "https://localhost:8080/"
        },
        "id": "PrtAf57rcDjh",
        "outputId": "a0d6de91-1fb8-4d2d-821f-f2cad8d6d6c3"
      },
      "execution_count": 18,
      "outputs": [
        {
          "output_type": "stream",
          "name": "stdout",
          "text": [
            " 1 :  5\n",
            " 5 :  2\n",
            " 3 :  3\n",
            " 4 :  3\n",
            " 2 :  4\n"
          ]
        }
      ]
    },
    {
      "cell_type": "markdown",
      "source": [
        "##14. Write a code to reverse a list in-place without using any built-in reverse functions."
      ],
      "metadata": {
        "id": "YaVek9pJcLDw"
      }
    },
    {
      "cell_type": "code",
      "source": [
        "def reverse_list_in_place(lst):\n",
        "    left = 0\n",
        "    right = len(lst) - 1\n",
        "\n",
        "    while left < right:\n",
        "        # Swap elements at left and right indices\n",
        "        lst[left], lst[right] = lst[right], lst[left]\n",
        "\n",
        "        # Move the pointers towards the center\n",
        "        left += 1\n",
        "        right -= 1\n",
        "\n",
        "my_list = [1, 2, 3, 4, 5]\n",
        "print(\"Original list:\", my_list)\n",
        "reverse_list_in_place(my_list)\n",
        "print(\"Reversed list:\", my_list)\n"
      ],
      "metadata": {
        "colab": {
          "base_uri": "https://localhost:8080/"
        },
        "id": "FOL0wIc1dIQb",
        "outputId": "842e3258-ab79-4f5a-d8dc-979c3d66bdc7"
      },
      "execution_count": 19,
      "outputs": [
        {
          "output_type": "stream",
          "name": "stdout",
          "text": [
            "Original list: [1, 2, 3, 4, 5]\n",
            "Reversed list: [5, 4, 3, 2, 1]\n"
          ]
        }
      ]
    },
    {
      "cell_type": "markdown",
      "source": [
        "##15. Implement a code to find and remove duplicates from a list while preserving the original order of elements."
      ],
      "metadata": {
        "id": "SSMBDFVBdKvW"
      }
    },
    {
      "cell_type": "code",
      "source": [
        "def remove_duplicates_preserve_order(lst):\n",
        "    seen = {}\n",
        "    result = []\n",
        "\n",
        "    for item in lst:\n",
        "        if item not in seen:\n",
        "            seen[item] = True\n",
        "            result.append(item)\n",
        "\n",
        "    return result\n",
        "\n",
        "my_list = [3, 1, 2, 4, 2, 1, 5, 3]\n",
        "print(\"Original list:\", my_list)\n",
        "unique_list = remove_duplicates_preserve_order(my_list)\n",
        "print(\"List with duplicates removed:\", unique_list)\n"
      ],
      "metadata": {
        "colab": {
          "base_uri": "https://localhost:8080/"
        },
        "id": "h0VSlMp1dzT-",
        "outputId": "63b12719-0bc3-4cef-e535-df8eb76ef344"
      },
      "execution_count": 20,
      "outputs": [
        {
          "output_type": "stream",
          "name": "stdout",
          "text": [
            "Original list: [3, 1, 2, 4, 2, 1, 5, 3]\n",
            "List with duplicates removed: [3, 1, 2, 4, 5]\n"
          ]
        }
      ]
    },
    {
      "cell_type": "markdown",
      "source": [
        "##16. Creates a code to check if a given list is sorted( either in ascending or descending order) or not."
      ],
      "metadata": {
        "id": "e_i9bo-hd3zU"
      }
    },
    {
      "cell_type": "code",
      "source": [
        "# initializing list\n",
        "test_list = [10, 4, 5, 8, 10]\n",
        "\n",
        "# printing original list\n",
        "print (\"Original list : \" + str(test_list))\n",
        "\n",
        "\n",
        "flag = 0\n",
        "test_list1 = test_list[:]\n",
        "test_list1.sort()\n",
        "if (test_list1 == test_list):\n",
        "    flag = 1\n",
        "\n",
        "if (flag) :\n",
        "    print (\"Yes, List is sorted.\")\n",
        "else :\n",
        "    print (\"No, List is not sorted.\")"
      ],
      "metadata": {
        "colab": {
          "base_uri": "https://localhost:8080/"
        },
        "id": "hEfIvbwxd3lu",
        "outputId": "80c24d01-c807-4b3e-ab62-82f3556ab541"
      },
      "execution_count": 21,
      "outputs": [
        {
          "output_type": "stream",
          "name": "stdout",
          "text": [
            "Original list : [10, 4, 5, 8, 10]\n",
            "No, List is not sorted.\n"
          ]
        }
      ]
    },
    {
      "cell_type": "markdown",
      "source": [
        "##17. Write a code to merge two sorted list into a single sorted list."
      ],
      "metadata": {
        "id": "kBQFQUNUer8G"
      }
    },
    {
      "cell_type": "code",
      "source": [
        "def merge_sorted_lists(list1, list2):\n",
        "    merged_list = []\n",
        "    i, j = 0, 0\n",
        "\n",
        "    while i < len(list1) and j < len(list2):\n",
        "        if list1[i] < list2[j]:\n",
        "            merged_list.append(list1[i])\n",
        "            i += 1\n",
        "        else:\n",
        "            merged_list.append(list2[j])\n",
        "            j += 1\n",
        "\n",
        "    # Add remaining elements of list1, if any\n",
        "    while i < len(list1):\n",
        "        merged_list.append(list1[i])\n",
        "        i += 1\n",
        "\n",
        "    # Add remaining elements of list2, if any\n",
        "    while j < len(list2):\n",
        "        merged_list.append(list2[j])\n",
        "        j += 1\n",
        "\n",
        "    return merged_list\n",
        "\n",
        "list1 = [1, 3, 5, 7]\n",
        "list2 = [2, 4, 6, 8]\n",
        "merged = merge_sorted_lists(list1, list2)\n",
        "print(\"Merged sorted list:\", merged)\n"
      ],
      "metadata": {
        "colab": {
          "base_uri": "https://localhost:8080/"
        },
        "id": "9YEZSuoefL9m",
        "outputId": "eac36349-fc85-48c3-c496-7ed20d6cbfde"
      },
      "execution_count": 23,
      "outputs": [
        {
          "output_type": "stream",
          "name": "stdout",
          "text": [
            "Merged sorted list: [1, 2, 3, 4, 5, 6, 7, 8]\n"
          ]
        }
      ]
    },
    {
      "cell_type": "markdown",
      "source": [
        "##18. Implement a code to find the intersection of two given lists."
      ],
      "metadata": {
        "id": "KB3PztKJfRBX"
      }
    },
    {
      "cell_type": "code",
      "source": [
        "def intersection(lst1, lst2):\n",
        "    lst3 = [value for value in lst1 if value in lst2]\n",
        "    return lst3\n",
        "\n",
        "lst1 = [4, 9, 1, 17, 11, 26, 28, 54, 69]\n",
        "lst2 = [9, 9, 74, 21, 45, 11, 63, 28, 26]\n",
        "print(intersection(lst1, lst2))"
      ],
      "metadata": {
        "colab": {
          "base_uri": "https://localhost:8080/"
        },
        "id": "4sgnu69df3PA",
        "outputId": "beda23ad-6710-4655-f6b5-bbcbb508daa4"
      },
      "execution_count": 24,
      "outputs": [
        {
          "output_type": "stream",
          "name": "stdout",
          "text": [
            "[9, 11, 26, 28]\n"
          ]
        }
      ]
    },
    {
      "cell_type": "markdown",
      "source": [
        "##19. Create a code to find the union of two lists without duplicates."
      ],
      "metadata": {
        "id": "fSF45JHBf-Da"
      }
    },
    {
      "cell_type": "code",
      "source": [
        "list1 = [23, 45, 65, 31, 1, 89]\n",
        "list2 = [67, 89, 23, 45, 8, 90]\n",
        "\n",
        "# Converting the list into set\n",
        "set1 = set(list1)\n",
        "set2 = set(list2)\n",
        "\n",
        "# find the union of the sets and converting resultant set to list\n",
        "ans = list(set1.union(set2))\n",
        "\n",
        "print(\"The resultant merged list is \")\n",
        "print(ans)"
      ],
      "metadata": {
        "colab": {
          "base_uri": "https://localhost:8080/"
        },
        "id": "M824VZ-hgfry",
        "outputId": "acbc44b9-d825-410f-9144-0d04bc73a8d9"
      },
      "execution_count": 25,
      "outputs": [
        {
          "output_type": "stream",
          "name": "stdout",
          "text": [
            "The resultant merged list is \n",
            "[65, 1, 67, 8, 45, 23, 89, 90, 31]\n"
          ]
        }
      ]
    },
    {
      "cell_type": "markdown",
      "source": [
        "##20. Write a code to shuffle a given list randomly without using any built-in shuffle function."
      ],
      "metadata": {
        "id": "5db0xYqsgkOW"
      }
    },
    {
      "cell_type": "code",
      "source": [
        "import random\n",
        "\n",
        "def shuffle_list(lst):\n",
        "    shuffled_list = lst[:]  # Create a copy of the original list\n",
        "\n",
        "    # Perform Fisher-Yates shuffle algorithm\n",
        "    n = len(shuffled_list)\n",
        "    for i in range(n - 1, 0, -1):\n",
        "        # Pick a random index j such that 0 <= j <= i\n",
        "        j = random.randint(0, i)\n",
        "\n",
        "        # Swap element at i with element at j\n",
        "        shuffled_list[i], shuffled_list[j] = shuffled_list[j], shuffled_list[i]\n",
        "\n",
        "    return shuffled_list\n",
        "\n",
        "original_list = [1, 2, 3, 4, 5]\n",
        "shuffled_result = shuffle_list(original_list)\n",
        "print(\"Original List:\", original_list)\n",
        "print(\"Shuffled List:\", shuffled_result)\n"
      ],
      "metadata": {
        "colab": {
          "base_uri": "https://localhost:8080/"
        },
        "id": "nwiYZMbyhUrg",
        "outputId": "513c2d78-18d8-4088-f2b0-73ca5d1b6002"
      },
      "execution_count": 26,
      "outputs": [
        {
          "output_type": "stream",
          "name": "stdout",
          "text": [
            "Original List: [1, 2, 3, 4, 5]\n",
            "Shuffled List: [3, 5, 4, 2, 1]\n"
          ]
        }
      ]
    },
    {
      "cell_type": "markdown",
      "source": [
        "##21. Write a code that takes two tuples as input and returns a new tuple containing elements that are common to both input tuples."
      ],
      "metadata": {
        "id": "yF-EsdJbhb1d"
      }
    },
    {
      "cell_type": "code",
      "source": [
        "def common_elements(tuple1, tuple2):\n",
        "    # Convert tuples to sets to find common elements\n",
        "    set1 = set(tuple1)\n",
        "    set2 = set(tuple2)\n",
        "\n",
        "    # Find intersection of the two sets\n",
        "    common_set = set1.intersection(set2)\n",
        "\n",
        "    # Convert the intersection set back to a tuple\n",
        "    common_tuple = tuple(sorted(common_set))  # Sorting is optional\n",
        "\n",
        "    return common_tuple\n",
        "\n",
        "tuple1 = (1, 2, 3, 4, 5)\n",
        "tuple2 = (3, 4, 5, 6, 7)\n",
        "\n",
        "common_result = common_elements(tuple1, tuple2)\n",
        "print(\"Common elements:\", common_result)\n"
      ],
      "metadata": {
        "colab": {
          "base_uri": "https://localhost:8080/"
        },
        "id": "EnMrOEMuhssR",
        "outputId": "31b615b2-6f32-4e31-de82-1597c5f4b3a5"
      },
      "execution_count": 27,
      "outputs": [
        {
          "output_type": "stream",
          "name": "stdout",
          "text": [
            "Common elements: (3, 4, 5)\n"
          ]
        }
      ]
    },
    {
      "cell_type": "markdown",
      "source": [
        "##22. Creates a code that prompts the user to enter two sets of integers seperated by commas. Then, print the intersection of these two sets."
      ],
      "metadata": {
        "id": "IOG4_2xmh5UL"
      }
    },
    {
      "cell_type": "code",
      "source": [
        "def get_integer_set_from_input():\n",
        "    input_str = input(\"Enter a set of integers separated by commas: \")\n",
        "    # Remove any extra whitespace and split by commas\n",
        "    integer_list = input_str.strip().split(',')\n",
        "    # Convert list of strings to set of integers\n",
        "    integer_set = set(int(num) for num in integer_list)\n",
        "    return integer_set\n",
        "\n",
        "def main():\n",
        "    # Prompt user to enter two sets of integers\n",
        "    print(\"Enter integers for the first set:\")\n",
        "    set1 = get_integer_set_from_input()\n",
        "\n",
        "    print(\"\\nEnter integers for the second set:\")\n",
        "    set2 = get_integer_set_from_input()\n",
        "\n",
        "    # Compute intersection of the two sets\n",
        "    intersection_set = set1.intersection(set2)\n",
        "\n",
        "    # Print the intersection set\n",
        "    print(\"\\nIntersection of the two sets:\", intersection_set)\n",
        "\n",
        "if __name__ == \"__main__\":\n",
        "    main()\n"
      ],
      "metadata": {
        "colab": {
          "base_uri": "https://localhost:8080/"
        },
        "id": "Q-XJyls9i_2V",
        "outputId": "cc05eb02-468f-47ca-8eae-43b970de8a82"
      },
      "execution_count": 29,
      "outputs": [
        {
          "output_type": "stream",
          "name": "stdout",
          "text": [
            "Enter integers for the first set:\n",
            "Enter a set of integers separated by commas: 1,2,3,5,6,7\n",
            "\n",
            "Enter integers for the second set:\n",
            "Enter a set of integers separated by commas: 2,3,4,5,17,18\n",
            "\n",
            "Intersection of the two sets: {2, 3, 5}\n"
          ]
        }
      ]
    },
    {
      "cell_type": "markdown",
      "source": [
        "##23. Write a code to concatenate two tuples. The function should take two tuples as input and return a new tuple containing elements from both input tuples."
      ],
      "metadata": {
        "id": "wvkVkb8Mjka6"
      }
    },
    {
      "cell_type": "code",
      "source": [
        "def concatenate_tuples(tuple1, tuple2):\n",
        "    # Convert tuples to lists for concatenation\n",
        "    list1 = list(tuple1)\n",
        "    list2 = list(tuple2)\n",
        "\n",
        "    # Concatenate lists\n",
        "    concatenated_list = list1 + list2\n",
        "\n",
        "    # Convert concatenated list back to tuple\n",
        "    concatenated_tuple = tuple(concatenated_list)\n",
        "\n",
        "    return concatenated_tuple\n",
        "\n",
        "tuple1 = (1, 2, 3)\n",
        "tuple2 = (4, 5, 6)\n",
        "\n",
        "concatenated_result = concatenate_tuples(tuple1, tuple2)\n",
        "print(\"Concatenated tuple:\", concatenated_result)\n"
      ],
      "metadata": {
        "colab": {
          "base_uri": "https://localhost:8080/"
        },
        "id": "ExTI_OKckBXc",
        "outputId": "7c0eb486-dd26-4786-e06f-5f137967a280"
      },
      "execution_count": 30,
      "outputs": [
        {
          "output_type": "stream",
          "name": "stdout",
          "text": [
            "Concatenated tuple: (1, 2, 3, 4, 5, 6)\n"
          ]
        }
      ]
    },
    {
      "cell_type": "markdown",
      "source": [
        "##24. Develop a code that prompts the user to input two sets of strings. Then, print the elments that are present in the first set but not in the second set."
      ],
      "metadata": {
        "id": "-t7APadFkgC4"
      }
    },
    {
      "cell_type": "code",
      "source": [
        "def get_string_set_from_input():\n",
        "    input_str = input(\"Enter a set of strings separated by commas: \")\n",
        "    # Remove any extra whitespace and split by commas\n",
        "    string_list = input_str.strip().split(',')\n",
        "    # Convert list of strings to set of strings\n",
        "    string_set = set(string_list)\n",
        "    return string_set\n",
        "\n",
        "def main():\n",
        "    # Prompt user to enter two sets of strings\n",
        "    print(\"Enter strings for the first set:\")\n",
        "    set1 = get_string_set_from_input()\n",
        "\n",
        "    print(\"\\nEnter strings for the second set:\")\n",
        "    set2 = get_string_set_from_input()\n",
        "\n",
        "    # Find elements in set1 that are not in set2\n",
        "    difference_set = set1 - set2\n",
        "\n",
        "    # Print the difference set\n",
        "    print(\"\\nElements in the first set but not in the second set:\", difference_set)\n",
        "\n",
        "if __name__ == \"__main__\":\n",
        "    main()\n"
      ],
      "metadata": {
        "colab": {
          "base_uri": "https://localhost:8080/"
        },
        "id": "lDYapSKek5As",
        "outputId": "f816ebd2-f091-45ab-cbe4-b8c8ff33d3e9"
      },
      "execution_count": 31,
      "outputs": [
        {
          "output_type": "stream",
          "name": "stdout",
          "text": [
            "Enter strings for the first set:\n",
            "Enter a set of strings separated by commas: 13,14,15,16,18,19\n",
            "\n",
            "Enter strings for the second set:\n",
            "Enter a set of strings separated by commas: 14,15,16,11,33,5\n",
            "\n",
            "Elements in the first set but not in the second set: {'18', '19', '13'}\n"
          ]
        }
      ]
    },
    {
      "cell_type": "markdown",
      "source": [
        "##25. Create a code that takes a tuple and two integers as input. The function should return a new tuple containing elements from the original tuple within the specified range of indices."
      ],
      "metadata": {
        "id": "EA8UwXzGliX6"
      }
    },
    {
      "cell_type": "code",
      "source": [
        "def get_subtuple(original_tuple, start_index, end_index):\n",
        "    # Ensure start_index and end_index are within bounds\n",
        "    if start_index < 0:\n",
        "        start_index = 0\n",
        "    if end_index >= len(original_tuple):\n",
        "        end_index = len(original_tuple) - 1\n",
        "\n",
        "    # Extract subtuple\n",
        "    sub_tuple = original_tuple[start_index:end_index + 1]\n",
        "\n",
        "    return tuple(sub_tuple)\n",
        "\n",
        "# Example usage:\n",
        "tuple1 = (1, 2, 3, 4, 5, 6, 7, 8, 9)\n",
        "start_index = 2\n",
        "end_index = 5\n",
        "\n",
        "subtuple_result = get_subtuple(tuple1, start_index, end_index)\n",
        "print(\"Original Tuple:\", tuple1)\n",
        "print(\"Subtuple from index\", start_index, \"to index\", end_index, \":\", subtuple_result)\n"
      ],
      "metadata": {
        "colab": {
          "base_uri": "https://localhost:8080/"
        },
        "id": "Md7ehYHpmETT",
        "outputId": "c32c480a-9943-4226-a898-2532f04b9a7d"
      },
      "execution_count": 32,
      "outputs": [
        {
          "output_type": "stream",
          "name": "stdout",
          "text": [
            "Original Tuple: (1, 2, 3, 4, 5, 6, 7, 8, 9)\n",
            "Subtuple from index 2 to index 5 : (3, 4, 5, 6)\n"
          ]
        }
      ]
    },
    {
      "cell_type": "markdown",
      "source": [
        "##26. Write a code that prompts the user to input two sets of charecters. Then, print the union of these two sets.\n"
      ],
      "metadata": {
        "id": "pJijj1bImLVw"
      }
    },
    {
      "cell_type": "code",
      "source": [
        "def get_char_set_from_input():\n",
        "    input_str = input(\"Enter a set of characters (without spaces): \")\n",
        "    # Convert input string to a set of characters\n",
        "    char_set = set(input_str)\n",
        "    return char_set\n",
        "\n",
        "def main():\n",
        "    # Prompt user to enter two sets of characters\n",
        "    print(\"Enter characters for the first set:\")\n",
        "    set1 = get_char_set_from_input()\n",
        "\n",
        "    print(\"\\nEnter characters for the second set:\")\n",
        "    set2 = get_char_set_from_input()\n",
        "\n",
        "    # Compute union of the two sets\n",
        "    union_set = set1.union(set2)\n",
        "\n",
        "    # Print the union set\n",
        "    print(\"\\nUnion of the two sets:\", union_set)\n",
        "\n",
        "if __name__ == \"__main__\":\n",
        "    main()\n"
      ],
      "metadata": {
        "colab": {
          "base_uri": "https://localhost:8080/"
        },
        "id": "eLhTRbGwmgm5",
        "outputId": "cfc5d40b-994c-4b6d-c1d0-30b0d7329296"
      },
      "execution_count": 33,
      "outputs": [
        {
          "output_type": "stream",
          "name": "stdout",
          "text": [
            "Enter characters for the first set:\n",
            "Enter a set of characters (without spaces): aman\n",
            "\n",
            "Enter characters for the second set:\n",
            "Enter a set of characters (without spaces): yadav\n",
            "\n",
            "Union of the two sets: {'y', 'd', 'm', 'a', 'n', 'v'}\n"
          ]
        }
      ]
    },
    {
      "cell_type": "markdown",
      "source": [
        "##27. Develop a code that takes a tuple of integers as input. The function should return the maximum and minimum values from the tuple using tuple unpacking."
      ],
      "metadata": {
        "id": "AjN5979JmqFV"
      }
    },
    {
      "cell_type": "code",
      "source": [
        "def find_max_min_tuple(input_tuple):\n",
        "    # Using tuple unpacking to find max and min values\n",
        "    max_value = max(input_tuple)\n",
        "    min_value = min(input_tuple)\n",
        "\n",
        "    return max_value, min_value\n",
        "\n",
        "tuple1 = (3, 7, 2, 8, 1, 5)\n",
        "\n",
        "max_value, min_value = find_max_min_tuple(tuple1)\n",
        "print(\"Tuple:\", tuple1)\n",
        "print(\"Maximum value:\", max_value)\n",
        "print(\"Minimum value:\", min_value)\n"
      ],
      "metadata": {
        "colab": {
          "base_uri": "https://localhost:8080/"
        },
        "id": "nHq9Y5ONnLr7",
        "outputId": "fd904d86-87f9-4594-98ea-949ce66d5cd9"
      },
      "execution_count": 34,
      "outputs": [
        {
          "output_type": "stream",
          "name": "stdout",
          "text": [
            "Tuple: (3, 7, 2, 8, 1, 5)\n",
            "Maximum value: 8\n",
            "Minimum value: 1\n"
          ]
        }
      ]
    },
    {
      "cell_type": "markdown",
      "source": [
        "##28. Create a code that defines two sets of integers. Then, print the union, intersection, and difference of these two sets."
      ],
      "metadata": {
        "id": "em_Is9-kmLJs"
      }
    },
    {
      "cell_type": "code",
      "source": [
        "def main():\n",
        "    # Define two sets of integers\n",
        "    set1 = {1, 2, 3, 4, 5}\n",
        "    set2 = {3, 4, 5, 6, 7}\n",
        "\n",
        "    # Compute union of the two sets\n",
        "    union_set = set1.union(set2)\n",
        "\n",
        "    # Compute intersection of the two sets\n",
        "    intersection_set = set1.intersection(set2)\n",
        "\n",
        "    # Compute difference (set1 - set2)\n",
        "    difference_set1_minus_set2 = set1.difference(set2)\n",
        "\n",
        "    # Compute difference (set2 - set1)\n",
        "    difference_set2_minus_set1 = set2.difference(set1)\n",
        "\n",
        "    # Print the results\n",
        "    print(\"Set 1:\", set1)\n",
        "    print(\"Set 2:\", set2)\n",
        "    print(\"Union of Set 1 and Set 2:\", union_set)\n",
        "    print(\"Intersection of Set 1 and Set 2:\", intersection_set)\n",
        "    print(\"Difference (Set 1 - Set 2):\", difference_set1_minus_set2)\n",
        "    print(\"Difference (Set 2 - Set 1):\", difference_set2_minus_set1)\n",
        "\n",
        "if __name__ == \"__main__\":\n",
        "    main()\n"
      ],
      "metadata": {
        "colab": {
          "base_uri": "https://localhost:8080/"
        },
        "id": "xSv3qRv1nf5e",
        "outputId": "75754eba-ba69-4a50-9c75-2ed2eb7fe1a9"
      },
      "execution_count": 35,
      "outputs": [
        {
          "output_type": "stream",
          "name": "stdout",
          "text": [
            "Set 1: {1, 2, 3, 4, 5}\n",
            "Set 2: {3, 4, 5, 6, 7}\n",
            "Union of Set 1 and Set 2: {1, 2, 3, 4, 5, 6, 7}\n",
            "Intersection of Set 1 and Set 2: {3, 4, 5}\n",
            "Difference (Set 1 - Set 2): {1, 2}\n",
            "Difference (Set 2 - Set 1): {6, 7}\n"
          ]
        }
      ]
    },
    {
      "cell_type": "markdown",
      "source": [
        "##29. Write a code that takes a tuple and an element as input. The function should return the count of occurrences of the given element in the tuple"
      ],
      "metadata": {
        "id": "VIOW0BBIn75c"
      }
    },
    {
      "cell_type": "code",
      "source": [
        "def count_occurrences(input_tuple, element):\n",
        "    # Count occurrences of the element in the tuple\n",
        "    count = input_tuple.count(element)\n",
        "    return count\n",
        "\n",
        "tuple1 = (1, 2, 3, 4, 2, 2, 5, 2)\n",
        "element_to_count = 2\n",
        "\n",
        "occurrences_count = count_occurrences(tuple1, element_to_count)\n",
        "print(f\"Tuple: {tuple1}\")\n",
        "print(f\"Number of occurrences of {element_to_count}: {occurrences_count}\")\n"
      ],
      "metadata": {
        "colab": {
          "base_uri": "https://localhost:8080/"
        },
        "id": "rIll0k7hoYS9",
        "outputId": "cfc7dd55-702b-454c-9b45-bb3fbecbeb6f"
      },
      "execution_count": 36,
      "outputs": [
        {
          "output_type": "stream",
          "name": "stdout",
          "text": [
            "Tuple: (1, 2, 3, 4, 2, 2, 5, 2)\n",
            "Number of occurrences of 2: 4\n"
          ]
        }
      ]
    },
    {
      "cell_type": "markdown",
      "source": [
        "##30. Develop a code that prompts the user to input two sets of strings. Then, print the symmetric difference of these two sets."
      ],
      "metadata": {
        "id": "qcP1uqK2od2s"
      }
    },
    {
      "cell_type": "code",
      "source": [
        "def get_string_set_from_input():\n",
        "    input_str = input(\"Enter a set of strings separated by commas: \")\n",
        "    # Remove any extra whitespace and split by commas\n",
        "    string_list = input_str.strip().split(',')\n",
        "    # Convert list of strings to set of strings\n",
        "    string_set = set(string_list)\n",
        "    return string_set\n",
        "\n",
        "def main():\n",
        "    # Prompt user to enter two sets of strings\n",
        "    print(\"Enter strings for the first set:\")\n",
        "    set1 = get_string_set_from_input()\n",
        "\n",
        "    print(\"\\nEnter strings for the second set:\")\n",
        "    set2 = get_string_set_from_input()\n",
        "\n",
        "    # Compute symmetric difference of the two sets\n",
        "    symmetric_difference_set = set1.symmetric_difference(set2)\n",
        "\n",
        "    # Print the symmetric difference set\n",
        "    print(\"\\nSymmetric Difference of the two sets:\", symmetric_difference_set)\n",
        "\n",
        "if __name__ == \"__main__\":\n",
        "    main()\n"
      ],
      "metadata": {
        "colab": {
          "base_uri": "https://localhost:8080/"
        },
        "id": "CssgtbB3o0K5",
        "outputId": "ac266422-8b43-4d3a-aa0c-97486346d7ef"
      },
      "execution_count": 37,
      "outputs": [
        {
          "output_type": "stream",
          "name": "stdout",
          "text": [
            "Enter strings for the first set:\n",
            "Enter a set of strings separated by commas: a,m,a,n\n",
            "\n",
            "Enter strings for the second set:\n",
            "Enter a set of strings separated by commas: y,a,d,a,v\n",
            "\n",
            "Symmetric Difference of the two sets: {'y', 'm', 'n', 'v', 'd'}\n"
          ]
        }
      ]
    },
    {
      "cell_type": "markdown",
      "source": [
        "##31. Write a code that takes a list of words as input and returns a dictionary where the keys are unnique words and the values are the frequencies of those words in the input list."
      ],
      "metadata": {
        "id": "Vusrd_8OpThT"
      }
    },
    {
      "cell_type": "code",
      "source": [
        "def word_frequency(words_list):\n",
        "    word_freq = {}\n",
        "\n",
        "    # Count frequencies of each word\n",
        "    for word in words_list:\n",
        "        if word in word_freq:\n",
        "            word_freq[word] += 1\n",
        "        else:\n",
        "            word_freq[word] = 1\n",
        "\n",
        "    return word_freq\n",
        "\n",
        "words_list = [\"apple\", \"banana\", \"apple\", \"orange\", \"banana\", \"apple\", \"kiwi\"]\n",
        "\n",
        "frequency_dict = word_frequency(words_list)\n",
        "print(\"Input List:\", words_list)\n",
        "print(\"Word Frequencies:\")\n",
        "for word, freq in frequency_dict.items():\n",
        "    print(f\"{word}: {freq}\")\n"
      ],
      "metadata": {
        "colab": {
          "base_uri": "https://localhost:8080/"
        },
        "id": "sUWUBaltpS4c",
        "outputId": "ae73aefa-8a08-44e7-ea09-e7a725d166c3"
      },
      "execution_count": 38,
      "outputs": [
        {
          "output_type": "stream",
          "name": "stdout",
          "text": [
            "Input List: ['apple', 'banana', 'apple', 'orange', 'banana', 'apple', 'kiwi']\n",
            "Word Frequencies:\n",
            "apple: 3\n",
            "banana: 2\n",
            "orange: 1\n",
            "kiwi: 1\n"
          ]
        }
      ]
    },
    {
      "cell_type": "markdown",
      "source": [
        "##32. Write a code that makes two dictionaries as input and merges them into a single dictionary. If there are common keys, the values should be added together."
      ],
      "metadata": {
        "id": "oHMy-2uyp4w1"
      }
    },
    {
      "cell_type": "code",
      "source": [
        "def merge_dictionaries(dict1, dict2):\n",
        "    merged_dict = dict1.copy()\n",
        "\n",
        "    for key, value in dict2.items():\n",
        "        if key in merged_dict:\n",
        "            merged_dict[key] += value\n",
        "        else:\n",
        "            merged_dict[key] = value\n",
        "\n",
        "    return merged_dict\n",
        "\n",
        "dict1 = {'a': 100, 'b': 200, 'c': 300}\n",
        "dict2 = {'b': 300, 'c': 400, 'd': 500}\n",
        "\n",
        "merged_dict = merge_dictionaries(dict1, dict2)\n",
        "print(\"Dictionary 1:\", dict1)\n",
        "print(\"Dictionary 2:\", dict2)\n",
        "print(\"Merged Dictionary with Summed Values for Common Keys:\")\n",
        "print(merged_dict)\n"
      ],
      "metadata": {
        "colab": {
          "base_uri": "https://localhost:8080/"
        },
        "id": "LxiuYtFapJp8",
        "outputId": "ca3fb468-aaea-42e1-fd03-ef7ae8c1e06f"
      },
      "execution_count": 39,
      "outputs": [
        {
          "output_type": "stream",
          "name": "stdout",
          "text": [
            "Dictionary 1: {'a': 100, 'b': 200, 'c': 300}\n",
            "Dictionary 2: {'b': 300, 'c': 400, 'd': 500}\n",
            "Merged Dictionary with Summed Values for Common Keys:\n",
            "{'a': 100, 'b': 500, 'c': 700, 'd': 500}\n"
          ]
        }
      ]
    },
    {
      "cell_type": "markdown",
      "source": [
        "##33. Write a code to access a value in a nested dictionary. The function should take the dictionary and a list of keys as input, and return the corresponding value. If any of the keys do not exist in the dictionary, the function should return None."
      ],
      "metadata": {
        "id": "O5rSjnTPqW0T"
      }
    },
    {
      "cell_type": "code",
      "source": [
        "def get_value_from_nested_dict(input_dict, keys):\n",
        "    current_dict = input_dict\n",
        "\n",
        "    for key in keys:\n",
        "        if isinstance(current_dict, dict) and key in current_dict:\n",
        "            current_dict = current_dict[key]\n",
        "        else:\n",
        "            return None\n",
        "\n",
        "    return current_dict\n",
        "\n",
        "\n",
        "nested_dict = {\n",
        "    'a': {\n",
        "        'b': {\n",
        "            'c': 10,\n",
        "            'd': 20\n",
        "        },\n",
        "        'e': {\n",
        "            'f': 30,\n",
        "            'g': 40\n",
        "        }\n",
        "    },\n",
        "    'h': {\n",
        "        'i': 50\n",
        "    }\n",
        "}\n",
        "\n",
        "keys_to_access = ['a', 'b', 'd']\n",
        "value = get_value_from_nested_dict(nested_dict, keys_to_access)\n",
        "print(f\"Nested Dictionary:\")\n",
        "print(nested_dict)\n",
        "print(f\"Value corresponding to keys {keys_to_access}: {value}\")\n"
      ],
      "metadata": {
        "colab": {
          "base_uri": "https://localhost:8080/"
        },
        "id": "c9UimFkXq_vK",
        "outputId": "41512462-8461-4819-ff3e-3ce694805695"
      },
      "execution_count": 40,
      "outputs": [
        {
          "output_type": "stream",
          "name": "stdout",
          "text": [
            "Nested Dictionary:\n",
            "{'a': {'b': {'c': 10, 'd': 20}, 'e': {'f': 30, 'g': 40}}, 'h': {'i': 50}}\n",
            "Value corresponding to keys ['a', 'b', 'd']: 20\n"
          ]
        }
      ]
    },
    {
      "cell_type": "markdown",
      "source": [
        "##34. Write a code that takes a dictionary as input and returns a sorted version of it based on the values. You can choose whether to sort in ascending or descending order."
      ],
      "metadata": {
        "id": "VXWySYwkrHls"
      }
    },
    {
      "cell_type": "code",
      "source": [
        "def sort_dictionary_by_values(input_dict, descending=False):\n",
        "    # Use sorted() with a lambda function to sort by values\n",
        "    sorted_dict = dict(sorted(input_dict.items(), key=lambda item: item[1]))\n",
        "    return sorted_dict\n",
        "\n",
        "input_dict = {'a': 5, 'b': 2, 'c': 8, 'd': 1, 'e': 3}\n",
        "\n",
        "# Sort in ascending order (default)\n",
        "sorted_dict_asc = sort_dictionary_by_values(input_dict)\n",
        "print(\"Original Dictionary:\", input_dict)\n",
        "print(\"Sorted Dictionary (ascending order):\", sorted_dict_asc)\n",
        "\n"
      ],
      "metadata": {
        "colab": {
          "base_uri": "https://localhost:8080/"
        },
        "id": "IDex8OxnrjlU",
        "outputId": "5657fcc7-d341-4b95-8623-bafb5e48d7a3"
      },
      "execution_count": 42,
      "outputs": [
        {
          "output_type": "stream",
          "name": "stdout",
          "text": [
            "Original Dictionary: {'a': 5, 'b': 2, 'c': 8, 'd': 1, 'e': 3}\n",
            "Sorted Dictionary (ascending order): {'d': 1, 'b': 2, 'e': 3, 'a': 5, 'c': 8}\n"
          ]
        }
      ]
    },
    {
      "cell_type": "markdown",
      "source": [
        "##35. Write a code that inverts a dictionary, swapping keys and values. Ensure that the inverted dictionary correctly handles cases where multiple keys have the same value by storing the keys as a list in the inverted dictionary."
      ],
      "metadata": {
        "id": "lffZicworwTw"
      }
    },
    {
      "cell_type": "code",
      "source": [
        "def invert_dictionary(input_dict):\n",
        "    inverted_dict = {}\n",
        "\n",
        "    for key, value in input_dict.items():\n",
        "        if value in inverted_dict:\n",
        "            inverted_dict[value].append(key)\n",
        "        else:\n",
        "            inverted_dict[value] = [key]\n",
        "\n",
        "    return inverted_dict\n",
        "\n",
        "input_dict = {'a': 1, 'b': 2, 'c': 1, 'd': 3, 'e': 2}\n",
        "\n",
        "inverted_dict = invert_dictionary(input_dict)\n",
        "print(\"Original Dictionary:\", input_dict)\n",
        "print(\"Inverted Dictionary:\")\n",
        "for value, keys in inverted_dict.items():\n",
        "    print(f\"{value}: {keys}\")\n"
      ],
      "metadata": {
        "colab": {
          "base_uri": "https://localhost:8080/"
        },
        "id": "S4AgZhP9sOzn",
        "outputId": "84c8772f-9f91-49b6-f6c5-5efd55273a8b"
      },
      "execution_count": 43,
      "outputs": [
        {
          "output_type": "stream",
          "name": "stdout",
          "text": [
            "Original Dictionary: {'a': 1, 'b': 2, 'c': 1, 'd': 3, 'e': 2}\n",
            "Inverted Dictionary:\n",
            "1: ['a', 'c']\n",
            "2: ['b', 'e']\n",
            "3: ['d']\n"
          ]
        }
      ]
    }
  ]
}